{
 "cells": [
  {
   "cell_type": "markdown",
   "id": "efcea585",
   "metadata": {},
   "source": [
    "# Question 1\n",
    "Consider the following Python module:\n",
    "a = 0\n",
    "def b():\n",
    "global a\n",
    "a = c(a)\n",
    "def c(a):\n",
    "return a + 2\n",
    "After importing the module into the interpreter, you execute:\n",
    ">>> b()\n",
    ">>> b()\n",
    ">>> b()\n",
    ">>> a\n",
    "?\n",
    "What value is displayed when the last expression (a) is evaluated? Explain your answer by indicating what happens in every executed statement."
   ]
  },
  {
   "cell_type": "code",
   "execution_count": 1,
   "id": "e4997f77",
   "metadata": {},
   "outputs": [],
   "source": [
    "a = 0\n",
    "\n",
    "def b():\n",
    "    global a\n",
    "    a=c(a)\n",
    "\n",
    "def c(a):\n",
    "    return a+ 2"
   ]
  },
  {
   "cell_type": "code",
   "execution_count": 2,
   "id": "1991987b",
   "metadata": {},
   "outputs": [
    {
     "data": {
      "text/plain": [
       "6"
      ]
     },
     "execution_count": 2,
     "metadata": {},
     "output_type": "execute_result"
    }
   ],
   "source": [
    "b()\n",
    "b()\n",
    "b()\n",
    "a"
   ]
  },
  {
   "cell_type": "markdown",
   "id": "a6f94d91",
   "metadata": {},
   "source": [
    "Explanation:\n",
    "Since a is declared global, its value outside of the function will remain\n",
    "1st b() call: a is initially zero, then after b is called a = 2 since b calls a and a returns its input(0) after adding 2 to it.\n",
    "2nd b() call: a is now initially 2, then after 2nd b is called a = 4 since b calls a and a returns its input(2) after adding 2 to it.\n",
    "3rd b() call: a is now 4, then after 3rd b is called a = 6 since b calls and a and a returns its input(4) after adding 2 to it.\n"
   ]
  },
  {
   "cell_type": "markdown",
   "id": "ec8b0eaf",
   "metadata": {},
   "source": [
    "# Question 2\n",
    "Function fileLength(), given to you, takes the name of a file as input and returns the length of the file: \n"
   ]
  },
  {
   "cell_type": "code",
   "execution_count": 3,
   "id": "43ea5655",
   "metadata": {},
   "outputs": [
    {
     "name": "stdout",
     "output_type": "stream",
     "text": [
      "153\n"
     ]
    }
   ],
   "source": [
    "def file_length(file_name):\n",
    "    file = open(file_name)\n",
    "    contents = file.read()\n",
    "    file.close()\n",
    "    print(len(contents))\n",
    "file_length('/Users/jesse/family.csv')"
   ]
  },
  {
   "cell_type": "code",
   "execution_count": 4,
   "id": "a9e69189",
   "metadata": {},
   "outputs": [
    {
     "name": "stdout",
     "output_type": "stream",
     "text": [
      "File /Users/jesse/family1.csv not found\n"
     ]
    }
   ],
   "source": [
    "def file_length(file_name):\n",
    "    try:\n",
    "        file = open(file_name)\n",
    "        contents = file.read()\n",
    "        file.close()\n",
    "        print(len(contents))\n",
    "    except FileNotFoundError:\n",
    "        print(\"File \" + file_name + \" not found\")\n",
    "file_length('/Users/jesse/family1.csv')"
   ]
  },
  {
   "cell_type": "markdown",
   "id": "261ea46b",
   "metadata": {},
   "source": [
    "# Question 3\n",
    "Write a class named Marsupial that can be used as shown below: ......."
   ]
  },
  {
   "cell_type": "code",
   "execution_count": 5,
   "id": "de8ea05e",
   "metadata": {},
   "outputs": [],
   "source": [
    "class Marsupial:\n",
    "    def __init__(self, xcoord=0, ycoord=0):\n",
    "        #initialize coordinates to (xcoord, ycoord), if not values default to 0\n",
    "        self.x = xcoord\n",
    "        self.y = ycoord\n",
    "        self.q = []\n",
    "\n",
    "class Kangaroo(Marsupial):\n",
    "    def jump(self, xcoord, ycoord):\n",
    "        # jumps from current position by x and y points, respectively\n",
    "        self.x += xcoord\n",
    "        self.y += ycoord\n",
    "    def __str__(self):\n",
    "        # overload __str__ to print kangaroo's coordinates\n",
    "        return \"I am a kangaroo located at coordinates (\" + str(self.x) + \",\" + str(self.y) + \")\"\n",
    "    def put_in_pouch(self,item):\n",
    "        # appends item to list q\n",
    "        self.q.append(item)\n",
    "    def pouch_contents(self):\n",
    "        # prints contents of list q\n",
    "        print (self.q)"
   ]
  },
  {
   "cell_type": "code",
   "execution_count": 6,
   "id": "53d26b67",
   "metadata": {},
   "outputs": [
    {
     "name": "stdout",
     "output_type": "stream",
     "text": [
      "I am a kangaroo located at coordinates (0,0)\n",
      "['doll', 'firetruck', 'kitten']\n",
      "I am a kangaroo located at coordinates (3,0)\n"
     ]
    }
   ],
   "source": [
    "k = Kangaroo(0,0)\n",
    "print(k)\n",
    "k.put_in_pouch('doll')\n",
    "k.put_in_pouch('firetruck')\n",
    "k.put_in_pouch('kitten')\n",
    "k.pouch_contents()\n",
    "k.jump(1,0)\n",
    "k.jump(1,0)\n",
    "k.jump(1,0)\n",
    "print(k)"
   ]
  },
  {
   "cell_type": "markdown",
   "id": "db9d3c89",
   "metadata": {},
   "source": [
    "# Question 4\n",
    "Write function collatz() that takes a positive integer x as input and prints the Collatz sequence starting at x. A Collatz sequence is obtained by repeatedly applying this rule to the previous number x in the sequence: \n",
    "x = { 𝑥/2 𝑖𝑓 𝑥 𝑖𝑠 𝑒𝑣𝑒𝑛 and 3𝑥+1 𝑖𝑓 𝑥 𝑖𝑠 𝑜𝑑𝑑"
   ]
  },
  {
   "cell_type": "code",
   "execution_count": 7,
   "id": "42dfd9b9",
   "metadata": {},
   "outputs": [],
   "source": [
    "def collatz(i_temp):\n",
    "    # converts positive int x=x/2 if even, 3x+1 if odd until reaches 1\n",
    "    print (i_temp)\n",
    "    if i_temp == 1:\n",
    "        exit\n",
    "    else:\n",
    "        if (i_temp%2) == 0: #even\n",
    "            return collatz(i_temp/2)\n",
    "        else:\n",
    "            return collatz((i_temp * 3) + 1)"
   ]
  },
  {
   "cell_type": "code",
   "execution_count": 8,
   "id": "0f95904c",
   "metadata": {},
   "outputs": [
    {
     "name": "stdout",
     "output_type": "stream",
     "text": [
      "10\n",
      "5.0\n",
      "16.0\n",
      "8.0\n",
      "4.0\n",
      "2.0\n",
      "1.0\n"
     ]
    }
   ],
   "source": [
    "collatz(10)"
   ]
  },
  {
   "cell_type": "markdown",
   "id": "fd7100e1",
   "metadata": {},
   "source": [
    "# Question 5\n",
    "Write a recursive method binary() that takes a non-negative integer n and prints the binary representation of integer n."
   ]
  },
  {
   "cell_type": "code",
   "execution_count": 9,
   "id": "60310098",
   "metadata": {},
   "outputs": [],
   "source": [
    "def binary(v_dec):\n",
    "    #converts parameter input v_dec to binary\n",
    "    if v_dec > 1:\n",
    "        binary(v_dec//2)\n",
    "    print(v_dec % 2,end = '')"
   ]
  },
  {
   "cell_type": "code",
   "execution_count": 10,
   "id": "5e997763",
   "metadata": {},
   "outputs": [
    {
     "name": "stdout",
     "output_type": "stream",
     "text": [
      "1001"
     ]
    }
   ],
   "source": [
    "binary(9)"
   ]
  },
  {
   "cell_type": "markdown",
   "id": "71e5c338",
   "metadata": {},
   "source": [
    "# Question 6\n",
    "Implement a class named HeadingParser that can be used to parse an HTML document, and retrieve and print all the headings in the document. You should implement your class as a subclass of HTMLParser, defined in Standard Library module html.parser."
   ]
  },
  {
   "cell_type": "code",
   "execution_count": 11,
   "id": "4ffa9246",
   "metadata": {},
   "outputs": [],
   "source": [
    "from html.parser import HTMLParser\n",
    "class HeadingParser(HTMLParser):\n",
    "#    def handle_starttag(self, tag, attrs):\n",
    "#        if tag == 'h1':\n",
    "#            text = tag\n",
    "#            print(text)\n",
    "#        elif tag == 'h2':\n",
    "#            text = tag\n",
    "#            print(text)\n",
    "    def handle_data(self, data):\n",
    "        if self.lasttag == 'h1':\n",
    "            print(data)\n",
    "        elif self.lasttag == 'h2':\n",
    "            print(\" \" + data)"
   ]
  },
  {
   "cell_type": "code",
   "execution_count": 12,
   "id": "67603a1a",
   "metadata": {},
   "outputs": [
    {
     "name": "stdout",
     "output_type": "stream",
     "text": [
      "W3C Mission\n",
      "\n",
      "\t\n",
      " Principles\n",
      " \n",
      " \n",
      "\n",
      "\n",
      "\n",
      " \n",
      "\n"
     ]
    }
   ],
   "source": [
    "infile = open('/Users/jesse/Downloads/w3c.txt')\n",
    "content = infile.read()\n",
    "#print (content)\n",
    "infile.close\n",
    "hp = HeadingParser()\n",
    "hp.feed(content)"
   ]
  },
  {
   "cell_type": "markdown",
   "id": "fafcdad7",
   "metadata": {},
   "source": [
    "# Question 7\n",
    "Implement recursive function webdir() that takes as input: a URL (as a string) and non-negative integers depth and indent. Your function should visit every web page reachable from the starting URL web page in depth clicks or less, and print each web page's URL. As shown below, indentation, specified by indent, should be used to indicate the depth of a URL."
   ]
  },
  {
   "cell_type": "markdown",
   "id": "6da0a73f",
   "metadata": {},
   "source": [
    "# Question 8\n",
    "Write SQL queries on the below database table that return:\n",
    "a) All the temperature data.\n",
    "b) All the cities, but without repetition.\n",
    "c) All the records for India.\n",
    "d) All the Fall records.\n",
    "e) The city, country, and season for which the average rainfall is between 200 and 400 millimeters.\n",
    "f) The city and country for which the average Fall temperature is above 20 degrees, in increasing temperature order.\n",
    "g) The total annual rainfall for Cairo.\n",
    "h) The total rainfall for each season."
   ]
  },
  {
   "cell_type": "markdown",
   "id": "002bba66",
   "metadata": {},
   "source": [
    "SELECT temperature FROM table1\n",
    "SELECT DISTINCT city FROM table1\n",
    "SELECT * FROM table1 WHERE upper(country) = 'INDIA'\n",
    "SELECT * FROM table1 WHERE upper(season) = 'FALL'\n",
    "SELECT city, country, season FROM table1 WHERE average(rainfall) BETWEEN 200 AND 400\n",
    "SELECT city, country FROM table1 WHERE upper(season) = 'FALL' AND  temperature > 20 ORDER BY temperature ASCENDING\n",
    "SELECT SUM(rainfall) FROM table1 WHERE upper(city) = 'CAIRO'\n",
    "SELECT season, SUM(rainfall) FROM table1 GROUP BY season"
   ]
  },
  {
   "cell_type": "markdown",
   "id": "d0aeab4f",
   "metadata": {},
   "source": [
    "# Question 9\n",
    "Suppose list words is defined as follows:\n",
    ">>> words = ['The', 'quick', 'brown', 'fox', 'jumps', 'over', 'the', 'lazy', 'dog']\n",
    "Write list comprehension expressions that use list words and generate the following lists:\n",
    "a) ['THE', 'QUICK', 'BROWN', 'FOX', 'JUMPS', 'OVER', 'THE', 'LAZY', 'DOG']\n",
    "b) ['the', 'quick', 'brown', 'fox', 'jumps', 'over', 'the', 'lazy', 'dog']\n",
    "c) [3, 5, 5, 3, 5, 4, 3, 4, 3] (the list of lengths of words in list words).\n",
    "d) [['THE', 'the', 3], ['QUICK', 'quick', 5], ['BROWN', 'brown', 5], ['FOX', 'fox', 3], ['JUMPS', 'jumps', 5], ['OVER', 'over', 4], ['THE', 'the', 3], ['LAZY', 'lazy', 4], ['DOG', 'dog', 3]] (the list containing a list for every word of list words, where each list contains the word in uppercase and lowercase and the length of the word.)\n",
    "e) ['The', 'quick', 'brown', 'fox', 'jumps', 'over', 'the', 'lazy', 'dog'] (the list of words in list words containing 4 or more characters.)"
   ]
  },
  {
   "cell_type": "code",
   "execution_count": 13,
   "id": "faf1d63c",
   "metadata": {},
   "outputs": [],
   "source": [
    "words = ['The', 'quick', 'brown', 'fox', 'jumps', 'over', 'the', 'lazy', 'dog']"
   ]
  },
  {
   "cell_type": "code",
   "execution_count": 14,
   "id": "e688515e",
   "metadata": {},
   "outputs": [
    {
     "data": {
      "text/plain": [
       "['THE', 'QUICK', 'BROWN', 'FOX', 'JUMPS', 'OVER', 'THE', 'LAZY', 'DOG']"
      ]
     },
     "execution_count": 14,
     "metadata": {},
     "output_type": "execute_result"
    }
   ],
   "source": [
    "newlines = [words.upper() for words in words]\n",
    "newlines"
   ]
  },
  {
   "cell_type": "code",
   "execution_count": 15,
   "id": "382ed727",
   "metadata": {},
   "outputs": [
    {
     "data": {
      "text/plain": [
       "['the', 'quick', 'brown', 'fox', 'jumps', 'over', 'the', 'lazy', 'dog']"
      ]
     },
     "execution_count": 15,
     "metadata": {},
     "output_type": "execute_result"
    }
   ],
   "source": [
    "newlines = [words.lower() for words in words]\n",
    "newlines"
   ]
  },
  {
   "cell_type": "code",
   "execution_count": 16,
   "id": "e9f0af81",
   "metadata": {},
   "outputs": [
    {
     "data": {
      "text/plain": [
       "[3, 5, 5, 3, 5, 4, 3, 4, 3]"
      ]
     },
     "execution_count": 16,
     "metadata": {},
     "output_type": "execute_result"
    }
   ],
   "source": [
    "newlines = [len(words) for words in words]\n",
    "newlines"
   ]
  },
  {
   "cell_type": "code",
   "execution_count": 19,
   "id": "39a8b289",
   "metadata": {},
   "outputs": [
    {
     "data": {
      "text/plain": [
       "['[THE,the,3]',\n",
       " '[QUICK,quick,5]',\n",
       " '[BROWN,brown,5]',\n",
       " '[FOX,fox,3]',\n",
       " '[JUMPS,jumps,5]',\n",
       " '[OVER,over,4]',\n",
       " '[THE,the,3]',\n",
       " '[LAZY,lazy,4]',\n",
       " '[DOG,dog,3]']"
      ]
     },
     "execution_count": 19,
     "metadata": {},
     "output_type": "execute_result"
    }
   ],
   "source": [
    "newlines = ['[' + words.upper() + \",\" + words.lower() + \",\" + str(len(words)) + ']' for words in words]\n",
    "newlines"
   ]
  },
  {
   "cell_type": "code",
   "execution_count": 20,
   "id": "74d29f58",
   "metadata": {},
   "outputs": [
    {
     "data": {
      "text/plain": [
       "['quick', 'brown', 'jumps', 'over', 'lazy']"
      ]
     },
     "execution_count": 20,
     "metadata": {},
     "output_type": "execute_result"
    }
   ],
   "source": [
    "newlines = [words for words in words if len(words) >= 4]\n",
    "newlines"
   ]
  },
  {
   "cell_type": "code",
   "execution_count": null,
   "id": "ec1dd919",
   "metadata": {},
   "outputs": [],
   "source": []
  }
 ],
 "metadata": {
  "kernelspec": {
   "display_name": "Python 3 (ipykernel)",
   "language": "python",
   "name": "python3"
  },
  "language_info": {
   "codemirror_mode": {
    "name": "ipython",
    "version": 3
   },
   "file_extension": ".py",
   "mimetype": "text/x-python",
   "name": "python",
   "nbconvert_exporter": "python",
   "pygments_lexer": "ipython3",
   "version": "3.9.7"
  }
 },
 "nbformat": 4,
 "nbformat_minor": 5
}
